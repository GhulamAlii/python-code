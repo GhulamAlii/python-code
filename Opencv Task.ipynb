{
 "cells": [
  {
   "cell_type": "code",
   "execution_count": 1,
   "id": "ab9add88",
   "metadata": {},
   "outputs": [],
   "source": [
    "import cv2\n",
    "import numpy as np\n",
    "import matplotlib.pyplot as plt\n",
    "import time"
   ]
  },
  {
   "cell_type": "code",
   "execution_count": 2,
   "id": "c38947a8",
   "metadata": {},
   "outputs": [],
   "source": [
    "# cap = cv2.VideoCapture(\"resource\\test.mp4\")\n",
    "\n",
    "# while(True):\n",
    "    \n",
    "#     ret,frame = cap.read()\n",
    "    \n",
    "#     if not ret:\n",
    "#         break\n",
    "\n",
    "#     gry_img = cv2.cvtColor(frame,cv2.COLOR_BGR2GRAY)\n",
    "    \n",
    "#     cv2.imshow(\"frame\",gry_img)\n",
    "    \n",
    "#     if cv2.waitKey(1) & 0xFF == ord('q'):\n",
    "#         break\n",
    "        \n",
    "# cap.release()\n",
    "# cv2.destroyAllWindows()\n",
    "        "
   ]
  },
  {
   "cell_type": "code",
   "execution_count": 3,
   "id": "cee27b61",
   "metadata": {},
   "outputs": [],
   "source": [
    "\n",
    "cap = cv2.VideoCapture('resource/testvid.mp4')\n",
    "\n",
    "\n",
    "# while(True):\n",
    "\n",
    "#     ret, frame = cap.read()\n",
    "\n",
    "#     if not ret:\n",
    "#         break\n",
    "\n",
    "#     gray = cv2.cvtColor(frame, cv2.COLOR_BGR2GRAY)\n",
    "\n",
    "#     cv2.imshow('frame',gray)\n",
    "\n",
    "\n",
    "#     if cv2.waitKey(1) & 0xFF == ord('q'):\n",
    "#         break\n",
    "\n",
    "\n",
    "# cap.release()\n",
    "# cv2.destroyAllWindows()\n"
   ]
  },
  {
   "cell_type": "code",
   "execution_count": 11,
   "id": "78504e58",
   "metadata": {},
   "outputs": [
    {
     "name": "stdout",
     "output_type": "stream",
     "text": [
      "Time taken : 0.0009992122650146484 seconds\n",
      "Estimated frames per second : 0.0\n"
     ]
    }
   ],
   "source": [
    "fpsnum = 0\n",
    "start = time.time()\n",
    "\n",
    "while (cap.isOpened()) :\n",
    "    ret, frame = cap.read()\n",
    "    \n",
    "    if ret == False:\n",
    "        break\n",
    "    fpsnum +=1    \n",
    "    print(fpsnum)\n",
    "end = time.time() \n",
    "    \n",
    "seconds = end - start\n",
    "\n",
    "print (\"Time taken : {0} seconds\".format(seconds))\n",
    "\n",
    " \n",
    "fps  = fpsnum / seconds\n",
    "\n",
    "print(\"Estimated frames per second : {0}\".format(fps))\n"
   ]
  },
  {
   "cell_type": "code",
   "execution_count": null,
   "id": "e022522c",
   "metadata": {},
   "outputs": [],
   "source": [
    "# import os\n",
    "# cap= cv2.VideoCapture('resource/testvid.mp4')\n",
    "# i=0\n",
    "# path = 'C:/Users/Students/Documents/Ali Computer Vision/resource/vid'\n",
    "# while(cap.isOpened() and i < 30):\n",
    "#     ret, frame =cap.read()\n",
    "#     if ret == False:\n",
    "#         break\n",
    "#     cv2.imwrite(os.path.join(path , 'imgs'+str(i)+'.jpg'),frame)\n",
    "#     i+=1\n",
    "# cap.release()\n",
    "# cv2.destroyAllWindows()\n"
   ]
  },
  {
   "cell_type": "code",
   "execution_count": null,
   "id": "15617087",
   "metadata": {},
   "outputs": [],
   "source": []
  }
 ],
 "metadata": {
  "kernelspec": {
   "display_name": "Python 3",
   "language": "python",
   "name": "python3"
  },
  "language_info": {
   "codemirror_mode": {
    "name": "ipython",
    "version": 3
   },
   "file_extension": ".py",
   "mimetype": "text/x-python",
   "name": "python",
   "nbconvert_exporter": "python",
   "pygments_lexer": "ipython3",
   "version": "3.8.8"
  }
 },
 "nbformat": 4,
 "nbformat_minor": 5
}
