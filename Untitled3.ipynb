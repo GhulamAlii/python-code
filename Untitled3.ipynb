{
 "cells": [
  {
   "cell_type": "code",
   "execution_count": 1,
   "id": "b4c0e77b",
   "metadata": {},
   "outputs": [],
   "source": [
    "import cv2\n",
    "import numpy as np \n",
    "import matplotlib.pyplot as plt"
   ]
  },
  {
   "cell_type": "code",
   "execution_count": 2,
   "id": "5151bcd9",
   "metadata": {},
   "outputs": [
    {
     "name": "stdout",
     "output_type": "stream",
     "text": [
      "Frames per second using video.get(cv2.CAP_PROP_FPS) : 10.0\n"
     ]
    }
   ],
   "source": [
    "cap= cv2.VideoCapture('C:/Users/Students/Desktop/Week 2 files/Media/M1/vtest.avi')\n",
    "fps = cap.get(cv2.CAP_PROP_FPS)\n",
    "print(\"Frames per second using video.get(cv2.CAP_PROP_FPS) : {0}\".format(fps))"
   ]
  },
  {
   "cell_type": "code",
   "execution_count": 3,
   "id": "9fea43e2",
   "metadata": {},
   "outputs": [],
   "source": [
    "import os\n",
    "cap= cv2.VideoCapture('C:/Users/Students/Desktop/Week 2 files/Media/M1/vtest.avi')\n",
    "i=0\n",
    "newpath = r'C:/Users/Students/Pictures/Saved Pictures/images' \n",
    "if not os.path.exists(newpath):\n",
    "    os.makedirs(newpath)\n",
    "for counter in range(10):\n",
    "    ret, frame = cap.read()\n",
    "    if ret == False:\n",
    "        break\n",
    "    cv2.imwrite(newpath+'/frame'+str(i)+'.jpg',frame)\n",
    "    i+=1\n",
    " \n",
    "cap.release()\n",
    "cv2.destroyAllWindows()"
   ]
  },
  {
   "cell_type": "code",
   "execution_count": 4,
   "id": "930e75fc",
   "metadata": {},
   "outputs": [],
   "source": [
    "import glob\n",
    " \n",
    "img_array = []\n",
    "for filename in glob.glob('C:/Users/Students/Pictures/Saved Pictures/images/*.jpg'):\n",
    "    img = cv2.imread(filename)\n",
    "    height, width, layers = img.shape\n",
    "    size = (width,height)\n",
    "    img_array.append(img)\n",
    " \n",
    " \n",
    "out = cv2.VideoWriter('project.avi',cv2.VideoWriter_fourcc(*'DIVX'), 5, size)\n",
    " \n",
    "for i in range(len(img_array)):\n",
    "    out.write(img_array[i])\n",
    "out.release()"
   ]
  },
  {
   "cell_type": "code",
   "execution_count": 5,
   "id": "0f6187b0",
   "metadata": {},
   "outputs": [],
   "source": [
    "# importing libraries\n",
    "import cv2\n",
    "import numpy as np\n",
    "   \n",
    "# Create a VideoCapture object and read from input file\n",
    "cap = cv2.VideoCapture('C:/Users/Students/project.avi')\n",
    "   \n",
    "# Check if camera opened successfully\n",
    "if (cap.isOpened()== False): \n",
    "    print(\"Error opening video  file\")\n",
    "    \n",
    "while(cap.isOpened()):\n",
    "      \n",
    "  # Capture frame-by-frame\n",
    "    ret, frame = cap.read()\n",
    "    if ret == True:\n",
    "   \n",
    "    # Display the resulting frame\n",
    "        cv2.imshow('Frame', frame)\n",
    "   \n",
    "    # Press Q on keyboard to  exit\n",
    "        if cv2.waitKey(25) & 0xFF == ord('q'):\n",
    "            break\n",
    "   \n",
    "  # Break the loop \n",
    "    else: \n",
    "        break\n",
    "   \n",
    "    cap.release()\n",
    "    cv2.destroyAllWindows()"
   ]
  },
  {
   "cell_type": "code",
   "execution_count": null,
   "id": "38ff1d14",
   "metadata": {},
   "outputs": [],
   "source": []
  }
 ],
 "metadata": {
  "kernelspec": {
   "display_name": "Python 3",
   "language": "python",
   "name": "python3"
  },
  "language_info": {
   "codemirror_mode": {
    "name": "ipython",
    "version": 3
   },
   "file_extension": ".py",
   "mimetype": "text/x-python",
   "name": "python",
   "nbconvert_exporter": "python",
   "pygments_lexer": "ipython3",
   "version": "3.8.8"
  }
 },
 "nbformat": 4,
 "nbformat_minor": 5
}
